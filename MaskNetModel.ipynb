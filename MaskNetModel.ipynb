{
  "cells": [
    {
      "cell_type": "markdown",
      "source": [
        "Dataset: https://github.com/balajisrinivas/Face-Mask-Detection/tree/master/dataset"
      ],
      "metadata": {
        "id": "sCOfMt0caJkx"
      }
    },
    {
      "cell_type": "code",
      "execution_count": null,
      "metadata": {
        "colab": {
          "base_uri": "https://localhost:8080/"
        },
        "id": "OcWrzAKOkEJ3",
        "outputId": "2c804a38-11f6-41f9-9219-f201fd851265"
      },
      "outputs": [
        {
          "name": "stdout",
          "output_type": "stream",
          "text": [
            "Mounted at /content/drive\n"
          ]
        }
      ],
      "source": [
        "from google.colab import drive\n",
        "drive.mount('/content/drive')"
      ]
    },
    {
      "cell_type": "code",
      "execution_count": null,
      "metadata": {
        "colab": {
          "base_uri": "https://localhost:8080/"
        },
        "id": "ykI6EMi8kKlx",
        "outputId": "4ea30e32-5b0a-4e94-b232-311fafad1a7c"
      },
      "outputs": [
        {
          "name": "stdout",
          "output_type": "stream",
          "text": [
            "/content/drive/MyDrive/MaskNet\n"
          ]
        }
      ],
      "source": [
        "%cd /content/drive/MyDrive/MaskNet"
      ]
    },
    {
      "cell_type": "code",
      "execution_count": null,
      "metadata": {
        "id": "vEuDu7N7f1un"
      },
      "outputs": [],
      "source": [
        "import os\n",
        "import numpy as np\n",
        "import matplotlib.pyplot as plt\n",
        "import tensorflow as tf\n",
        "from tensorflow.keras.preprocessing.image import ImageDataGenerator\n",
        "from tensorflow.keras.applications import MobileNetV2\n",
        "from tensorflow.keras.layers import AveragePooling2D\n",
        "from tensorflow.keras.layers import Dropout\n",
        "from tensorflow.keras.layers import Flatten\n",
        "from tensorflow.keras.layers import Dense\n",
        "from tensorflow.keras.layers import Input\n",
        "from tensorflow.keras.models import Model\n",
        "from tensorflow.keras.optimizers import Adam\n",
        "from tensorflow.keras.applications.mobilenet_v2 import preprocess_input\n",
        "from tensorflow.keras.preprocessing.image import img_to_array\n",
        "from tensorflow.keras.preprocessing.image import load_img\n",
        "from tensorflow.keras.utils import to_categorical\n",
        "from sklearn.model_selection import train_test_split\n",
        "from sklearn.metrics import classification_report, confusion_matrix\n",
        "from imutils import paths"
      ]
    },
    {
      "cell_type": "markdown",
      "metadata": {
        "id": "mFGt6S6fxTDw"
      },
      "source": [
        "# Loading Image Data and labels for each class"
      ]
    },
    {
      "cell_type": "code",
      "execution_count": null,
      "metadata": {
        "colab": {
          "base_uri": "https://localhost:8080/"
        },
        "id": "nHUUYUPXkZKn",
        "outputId": "33545f80-30bc-4fb8-da51-3768b414d3d4"
      },
      "outputs": [
        {
          "name": "stderr",
          "output_type": "stream",
          "text": [
            "/usr/local/lib/python3.7/dist-packages/PIL/Image.py:960: UserWarning: Palette images with Transparency expressed in bytes should be converted to RGBA images\n",
            "  \"Palette images with Transparency expressed in bytes should be \"\n"
          ]
        }
      ],
      "source": [
        "dir = r'Data'\n",
        "classes = ['wo_mask', 'w_mask']\n",
        "\n",
        "images = []\n",
        "labels = []\n",
        "\n",
        "for cls in classes:\n",
        "    path = os.path.join(dir, cls)\n",
        "    for image in os.listdir(path):\n",
        "    \timage_path = os.path.join(path, image)\n",
        "    \timage = load_img(image_path, target_size=(224, 224))\n",
        "    \timage = img_to_array(image)\n",
        "    \timage = preprocess_input(image)\n",
        "\n",
        "    \timages.append(image)\n",
        "    \tlabels.append(cls)"
      ]
    },
    {
      "cell_type": "code",
      "execution_count": null,
      "metadata": {
        "id": "7gybs9Ix7rSC"
      },
      "outputs": [],
      "source": [
        "for i in range(len(labels)):\n",
        "  if(labels[i] == 'wo_mask'):\n",
        "    labels[i] = 0\n",
        "  else:\n",
        "    labels[i] = 1"
      ]
    },
    {
      "cell_type": "code",
      "execution_count": null,
      "metadata": {
        "id": "ZVNGvpXEkaQn"
      },
      "outputs": [],
      "source": [
        "images = np.array(images, dtype = 'float32')\n",
        "labels = np.array(labels)"
      ]
    },
    {
      "cell_type": "code",
      "execution_count": null,
      "metadata": {
        "colab": {
          "base_uri": "https://localhost:8080/"
        },
        "id": "eNtpn4KZ8IBW",
        "outputId": "43640864-087b-409c-de84-e2cb81d3fc39"
      },
      "outputs": [
        {
          "name": "stdout",
          "output_type": "stream",
          "text": [
            "(3833, 224, 224, 3)\n",
            "(3833,)\n"
          ]
        }
      ],
      "source": [
        "print(images.shape) \n",
        "print(labels.shape)"
      ]
    },
    {
      "cell_type": "markdown",
      "metadata": {
        "id": "RxiGj5ehxcTo"
      },
      "source": [
        "# Splitting data into Train and Test in a Stratified fashion"
      ]
    },
    {
      "cell_type": "code",
      "execution_count": null,
      "metadata": {
        "id": "Kzr4sRiVkaOi"
      },
      "outputs": [],
      "source": [
        "X_train, X_test, Y_train, Y_test = train_test_split(images, labels,\ttest_size = 0.2, stratify = labels, random_state = 42)"
      ]
    },
    {
      "cell_type": "code",
      "execution_count": null,
      "metadata": {
        "colab": {
          "base_uri": "https://localhost:8080/"
        },
        "id": "CnP8bBGJDvU0",
        "outputId": "b605c4c9-75e1-4c53-bbc6-c4f5c6eefdb5"
      },
      "outputs": [
        {
          "name": "stdout",
          "output_type": "stream",
          "text": [
            "(3066, 224, 224, 3)\n",
            "(3066,)\n",
            "(767, 224, 224, 3)\n",
            "(767,)\n"
          ]
        }
      ],
      "source": [
        "print(X_train.shape)\n",
        "print(Y_train.shape) \n",
        "print(X_test.shape)\n",
        "print(Y_test.shape)"
      ]
    },
    {
      "cell_type": "markdown",
      "metadata": {
        "id": "EbQeWz448ci2"
      },
      "source": [
        "# Image Data Generator for Data Augmentation"
      ]
    },
    {
      "cell_type": "code",
      "execution_count": null,
      "metadata": {
        "id": "jVUOT2OrkaME"
      },
      "outputs": [],
      "source": [
        "datagen = ImageDataGenerator(\n",
        "    rotation_range=20, \n",
        "    zoom_range=0.15,\t\n",
        "    width_shift_range=0.2,\n",
        "    height_shift_range=0.2,\n",
        "    shear_range=0.15,\n",
        "\t  horizontal_flip=True,\n",
        "\t  fill_mode=\"nearest\")"
      ]
    },
    {
      "cell_type": "markdown",
      "metadata": {
        "id": "z5OtgIGI93-T"
      },
      "source": [
        "# Creating the Model using Transfer Learning\n"
      ]
    },
    {
      "cell_type": "markdown",
      "metadata": {
        "id": "vslG5YPq-Im4"
      },
      "source": [
        "### Using the MobileNetV2 CNN Architecture\n",
        "1. ImageNet pre-trained weights are being used.\n",
        "2. FC layer sets are not being used, custom FC layers will be developed later. "
      ]
    },
    {
      "cell_type": "code",
      "execution_count": null,
      "metadata": {
        "colab": {
          "base_uri": "https://localhost:8080/"
        },
        "id": "qiqwUZWUkaJP",
        "outputId": "62f0caa2-deb1-49d3-a15d-371741d4358b"
      },
      "outputs": [
        {
          "name": "stdout",
          "output_type": "stream",
          "text": [
            "Downloading data from https://storage.googleapis.com/tensorflow/keras-applications/mobilenet_v2/mobilenet_v2_weights_tf_dim_ordering_tf_kernels_1.0_224_no_top.h5\n",
            "9412608/9406464 [==============================] - 0s 0us/step\n",
            "9420800/9406464 [==============================] - 0s 0us/step\n"
          ]
        }
      ],
      "source": [
        "#Base Model\n",
        "mnv2 = MobileNetV2(weights=\"imagenet\", include_top=False, input_shape = (224, 224, 3))"
      ]
    },
    {
      "cell_type": "markdown",
      "metadata": {
        "id": "ZsZDfMiq_iNU"
      },
      "source": [
        "###Creating the custom layers on top of MobileNetV2"
      ]
    },
    {
      "cell_type": "code",
      "execution_count": null,
      "metadata": {
        "id": "o0Olt0vVkaG0"
      },
      "outputs": [],
      "source": [
        "#Head Model\n",
        "custom_model = mnv2.output\n",
        "custom_model = AveragePooling2D(pool_size=(7, 7))(custom_model)\n",
        "custom_model = Flatten(name=\"flatten\")(custom_model)\n",
        "custom_model = Dense(128, activation=\"relu\")(custom_model)\n",
        "custom_model = Dropout(0.5)(custom_model)\n",
        "custom_model = Dense(1, activation=\"sigmoid\")(custom_model)"
      ]
    },
    {
      "cell_type": "code",
      "execution_count": null,
      "metadata": {
        "id": "ee9DpElvkaEZ"
      },
      "outputs": [],
      "source": [
        "model = Model(inputs=mnv2.input, outputs=custom_model)"
      ]
    },
    {
      "cell_type": "markdown",
      "metadata": {
        "id": "_dIdMTnRAqlR"
      },
      "source": [
        "###Freezing all the layers in MobileNetV2 so that they don't update during the training process and information contained in them is thus preserved"
      ]
    },
    {
      "cell_type": "code",
      "execution_count": null,
      "metadata": {
        "id": "tiphIFexkaBx"
      },
      "outputs": [],
      "source": [
        "for layer in mnv2.layers:\n",
        "\tlayer.trainable = False"
      ]
    },
    {
      "cell_type": "markdown",
      "metadata": {
        "id": "nt0x_h-OA_ov"
      },
      "source": [
        "###Compiling the Model"
      ]
    },
    {
      "cell_type": "code",
      "execution_count": null,
      "metadata": {
        "id": "vW0YCd_1DFfA"
      },
      "outputs": [],
      "source": [
        "learning_rate = 1e-4\n",
        "epochs = 20\n",
        "batch_size = 32"
      ]
    },
    {
      "cell_type": "code",
      "execution_count": null,
      "metadata": {
        "id": "67SaKfJCkZ_l"
      },
      "outputs": [],
      "source": [
        "optimizer = Adam(learning_rate = learning_rate, decay = learning_rate/epochs)\n",
        "model.compile(loss='binary_crossentropy', optimizer=optimizer, metrics=['accuracy'])"
      ]
    },
    {
      "cell_type": "markdown",
      "metadata": {
        "id": "adN8jJ6iBd1M"
      },
      "source": [
        "###Training the Model"
      ]
    },
    {
      "cell_type": "code",
      "execution_count": null,
      "metadata": {
        "colab": {
          "base_uri": "https://localhost:8080/"
        },
        "id": "RTZ6JtgUkZ9P",
        "outputId": "101b9823-f8f7-4c23-d118-e7895e32f389"
      },
      "outputs": [
        {
          "name": "stdout",
          "output_type": "stream",
          "text": [
            "Epoch 1/20\n",
            "95/95 [==============================] - 70s 608ms/step - loss: 0.3620 - accuracy: 0.8398 - val_loss: 0.1252 - val_accuracy: 0.9726\n",
            "Epoch 2/20\n",
            "95/95 [==============================] - 50s 524ms/step - loss: 0.1150 - accuracy: 0.9677 - val_loss: 0.0762 - val_accuracy: 0.9804\n",
            "Epoch 3/20\n",
            "95/95 [==============================] - 48s 508ms/step - loss: 0.0816 - accuracy: 0.9769 - val_loss: 0.0517 - val_accuracy: 0.9857\n",
            "Epoch 4/20\n",
            "95/95 [==============================] - 41s 430ms/step - loss: 0.0739 - accuracy: 0.9733 - val_loss: 0.0514 - val_accuracy: 0.9844\n",
            "Epoch 5/20\n",
            "95/95 [==============================] - 43s 451ms/step - loss: 0.0577 - accuracy: 0.9825 - val_loss: 0.0468 - val_accuracy: 0.9844\n",
            "Epoch 6/20\n",
            "95/95 [==============================] - 46s 487ms/step - loss: 0.0497 - accuracy: 0.9848 - val_loss: 0.0381 - val_accuracy: 0.9870\n",
            "Epoch 7/20\n",
            "95/95 [==============================] - 40s 418ms/step - loss: 0.0467 - accuracy: 0.9855 - val_loss: 0.0400 - val_accuracy: 0.9844\n",
            "Epoch 8/20\n",
            "95/95 [==============================] - 41s 428ms/step - loss: 0.0445 - accuracy: 0.9881 - val_loss: 0.0437 - val_accuracy: 0.9857\n",
            "Epoch 9/20\n",
            "95/95 [==============================] - 40s 420ms/step - loss: 0.0430 - accuracy: 0.9862 - val_loss: 0.0356 - val_accuracy: 0.9844\n",
            "Epoch 10/20\n",
            "95/95 [==============================] - 39s 416ms/step - loss: 0.0407 - accuracy: 0.9858 - val_loss: 0.0301 - val_accuracy: 0.9870\n",
            "Epoch 11/20\n",
            "95/95 [==============================] - 40s 425ms/step - loss: 0.0368 - accuracy: 0.9868 - val_loss: 0.0343 - val_accuracy: 0.9883\n",
            "Epoch 12/20\n",
            "95/95 [==============================] - 40s 420ms/step - loss: 0.0258 - accuracy: 0.9914 - val_loss: 0.0390 - val_accuracy: 0.9870\n",
            "Epoch 13/20\n",
            "95/95 [==============================] - 40s 417ms/step - loss: 0.0325 - accuracy: 0.9898 - val_loss: 0.0323 - val_accuracy: 0.9883\n",
            "Epoch 14/20\n",
            "95/95 [==============================] - 39s 413ms/step - loss: 0.0310 - accuracy: 0.9908 - val_loss: 0.0260 - val_accuracy: 0.9896\n",
            "Epoch 15/20\n",
            "95/95 [==============================] - 39s 412ms/step - loss: 0.0260 - accuracy: 0.9895 - val_loss: 0.0326 - val_accuracy: 0.9896\n",
            "Epoch 16/20\n",
            "95/95 [==============================] - 46s 485ms/step - loss: 0.0263 - accuracy: 0.9931 - val_loss: 0.0278 - val_accuracy: 0.9896\n",
            "Epoch 17/20\n",
            "95/95 [==============================] - 39s 414ms/step - loss: 0.0268 - accuracy: 0.9904 - val_loss: 0.0322 - val_accuracy: 0.9896\n",
            "Epoch 18/20\n",
            "95/95 [==============================] - 39s 413ms/step - loss: 0.0221 - accuracy: 0.9924 - val_loss: 0.0344 - val_accuracy: 0.9870\n",
            "Epoch 19/20\n",
            "95/95 [==============================] - 39s 409ms/step - loss: 0.0228 - accuracy: 0.9937 - val_loss: 0.0382 - val_accuracy: 0.9870\n",
            "Epoch 20/20\n",
            "95/95 [==============================] - 38s 400ms/step - loss: 0.0233 - accuracy: 0.9934 - val_loss: 0.0272 - val_accuracy: 0.9909\n"
          ]
        }
      ],
      "source": [
        "history = model.fit(\n",
        "    datagen.flow(X_train, Y_train, batch_size = batch_size), \n",
        "    steps_per_epoch = len(X_train) // batch_size, \n",
        "    validation_data = (X_test, Y_test), \n",
        "    validation_steps = len(X_test) // batch_size,\n",
        "\t  epochs = epochs)"
      ]
    },
    {
      "cell_type": "markdown",
      "metadata": {
        "id": "OcxS5bulFIoi"
      },
      "source": [
        "#Evaluating the Model"
      ]
    },
    {
      "cell_type": "code",
      "execution_count": null,
      "metadata": {
        "colab": {
          "base_uri": "https://localhost:8080/"
        },
        "id": "oFXChi0XzkNt",
        "outputId": "23b01c4f-12dc-4720-9ca4-c1d5ce465c40"
      },
      "outputs": [
        {
          "name": "stdout",
          "output_type": "stream",
          "text": [
            "24/24 [==============================] - 2s 90ms/step - loss: 0.0272 - accuracy: 0.9909\n",
            "Accuracy on Test Data: 99.09%\n",
            "Loss on Test Data: 0.02716529741883278\n"
          ]
        }
      ],
      "source": [
        "loss, accuracy = model.evaluate(X_test, Y_test, batch_size = batch_size)\n",
        "print(f\"Accuracy on Test Data: {'%.2f' %(accuracy * 100)}%\")\n",
        "print(f'Loss on Test Data: {loss}')"
      ]
    },
    {
      "cell_type": "code",
      "execution_count": null,
      "metadata": {
        "id": "RqL3_ZenkZ6Y"
      },
      "outputs": [],
      "source": [
        "Y_predictions = model.predict(X_test, batch_size=batch_size)\n",
        "Y_predictions = tf.greater(Y_predictions, .5)"
      ]
    },
    {
      "cell_type": "code",
      "execution_count": null,
      "metadata": {
        "colab": {
          "base_uri": "https://localhost:8080/"
        },
        "id": "vHdPjxk-kZzP",
        "outputId": "c85bce73-ac04-428a-da83-5641c349bf8b"
      },
      "outputs": [
        {
          "name": "stdout",
          "output_type": "stream",
          "text": [
            "Classification Report:\n",
            "              precision    recall  f1-score   support\n",
            "\n",
            "Without Mask       1.00      0.98      0.99       384\n",
            "   With Mask       0.98      1.00      0.99       383\n",
            "\n",
            "    accuracy                           0.99       767\n",
            "   macro avg       0.99      0.99      0.99       767\n",
            "weighted avg       0.99      0.99      0.99       767\n",
            "\n",
            "-----------------------------------------------------\n",
            "Confusion Matrix:\n",
            "[[377   7]\n",
            " [  0 383]]\n"
          ]
        }
      ],
      "source": [
        "print('Classification Report:')\n",
        "print(classification_report(Y_test, Y_predictions, target_names=['Without Mask', 'With Mask']))\n",
        "print('-----------------------------------------------------')\n",
        "print('Confusion Matrix:')\n",
        "print(confusion_matrix(Y_test, Y_predictions))"
      ]
    },
    {
      "cell_type": "markdown",
      "metadata": {
        "id": "B6Rp3qaWHUzP"
      },
      "source": [
        "#Plotting the Model Accuracy and Loss on Training and Validation Sets"
      ]
    },
    {
      "cell_type": "code",
      "execution_count": null,
      "metadata": {
        "colab": {
          "base_uri": "https://localhost:8080/",
          "height": 295
        },
        "id": "O5v1VuEJkX6E",
        "outputId": "124581b8-33ff-4438-9a81-593354867695"
      },
      "outputs": [
        {
          "data": {
            "image/png": "[encoded data removed]",
            "text/plain": [
              "<Figure size 432x288 with 1 Axes>"
            ]
          },
          "metadata": {},
          "output_type": "display_data"
        }
      ],
      "source": [
        "plt.style.use('dark_background')\n",
        "plt.figure()\n",
        "plt.plot(history.history['accuracy'], label='Training Accuracy')\n",
        "plt.plot(history.history['loss'], label='Training Loss')\n",
        "plt.title('Training Accuracy and Loss')\n",
        "plt.xlabel('Epochs')\n",
        "plt.ylabel('Accuracy/Loss')\n",
        "plt.legend(loc='best')\n",
        "plt.savefig('Training Plot.png')\n",
        "plt.show()"
      ]
    },
    {
      "cell_type": "code",
      "execution_count": null,
      "metadata": {
        "colab": {
          "base_uri": "https://localhost:8080/",
          "height": 295
        },
        "id": "seLXl2MHHnuO",
        "outputId": "f5f21a94-16f0-4a82-8bd1-c904be19d879"
      },
      "outputs": [
        {
          "data": {
            "image/png": "[encoded data removed]",
            "text/plain": [
              "<Figure size 432x288 with 1 Axes>"
            ]
          },
          "metadata": {},
          "output_type": "display_data"
        }
      ],
      "source": [
        "plt.style.use('dark_background')\n",
        "plt.figure()\n",
        "plt.plot(history.history['val_accuracy'], label='Validation Accuracy')\n",
        "plt.plot(history.history['val_loss'], label='Validation Loss')\n",
        "plt.title('Validation Accuracy and Loss')\n",
        "plt.xlabel('Epochs')\n",
        "plt.ylabel('Accuracy/Loss')\n",
        "plt.legend(loc='best')\n",
        "plt.savefig('Validation Plot.png')\n",
        "plt.show()"
      ]
    },
    {
      "cell_type": "markdown",
      "metadata": {
        "id": "d5XAcb5D0Wmw"
      },
      "source": [
        "#Saving the Model so that it can be used in real-time applications"
      ]
    },
    {
      "cell_type": "code",
      "execution_count": null,
      "metadata": {
        "id": "j1fVJdMm0WVk"
      },
      "outputs": [],
      "source": [
        "model.save('MaskNet.model', save_format='h5')"
      ]
    }
  ],
  "metadata": {
    "accelerator": "GPU",
    "colab": {
      "collapsed_sections": [],
      "name": "MaskNetModel.ipynb",
      "provenance": []
    },
    "kernelspec": {
      "display_name": "Python 3",
      "language": "python",
      "name": "python3"
    },
    "language_info": {
      "codemirror_mode": {
        "name": "ipython",
        "version": 3
      },
      "file_extension": ".py",
      "mimetype": "text/x-python",
      "name": "python",
      "nbconvert_exporter": "python",
      "pygments_lexer": "ipython3",
      "version": "3.8.8"
    }
  },
  "nbformat": 4,
  "nbformat_minor": 0
}